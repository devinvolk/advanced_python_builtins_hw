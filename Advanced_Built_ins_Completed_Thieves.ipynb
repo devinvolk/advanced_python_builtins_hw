{
 "cells": [
  {
   "cell_type": "markdown",
   "metadata": {},
   "source": [
    "# Map, Filter, Reduce, Lambda & Recursion"
   ]
  },
  {
   "cell_type": "markdown",
   "metadata": {},
   "source": [
    "## Tasks Today:\n",
    "\n",
    "1) <b>Lambda Functions</b> <br>\n",
    " &nbsp;&nbsp;&nbsp;&nbsp; a) Syntax <br>\n",
    " &nbsp;&nbsp;&nbsp;&nbsp; b) Saving to a Variable <br>\n",
    " &nbsp;&nbsp;&nbsp;&nbsp; c) Multiple Inputs <br>\n",
    " &nbsp;&nbsp;&nbsp;&nbsp; d) Passing a Lambda into a Function <br>\n",
    " &nbsp;&nbsp;&nbsp;&nbsp; e) Returning a Lambda from a Function <br>\n",
    " &nbsp;&nbsp;&nbsp;&nbsp; f) In-Class Exercise #1 <br>\n",
    "2) <b>Map</b> <br>\n",
    " &nbsp;&nbsp;&nbsp;&nbsp; a) Syntax <br>\n",
    " &nbsp;&nbsp;&nbsp;&nbsp; b) Using Lambda's with Map <br>\n",
    " &nbsp;&nbsp;&nbsp;&nbsp; c) In-Class Exercise #2 <br>\n",
    "3) <b>Filter</b> <br>\n",
    " &nbsp;&nbsp;&nbsp;&nbsp; a) Syntax <br>\n",
    " &nbsp;&nbsp;&nbsp;&nbsp; b) Using Lambda's with Filter <br>\n",
    " &nbsp;&nbsp;&nbsp;&nbsp; c) In-Class Exercise #3 <br>\n",
    "4) <b>Reduce</b> <br>\n",
    " &nbsp;&nbsp;&nbsp;&nbsp; a) Syntax <br>\n",
    " &nbsp;&nbsp;&nbsp;&nbsp; b) Using Lambda's with Reduce <br>\n",
    " &nbsp;&nbsp;&nbsp;&nbsp; c) In-Class Exercise #4 <br>\n",
    "5) <b>Recursion</b> <br>\n",
    " &nbsp;&nbsp;&nbsp;&nbsp; a) Implementing a Base <br>\n",
    " &nbsp;&nbsp;&nbsp;&nbsp; b) Writing a Factorial Function <br>\n",
    " &nbsp;&nbsp;&nbsp;&nbsp; c) In-Class Exercise #5 <br>\n",
    "6) <b>Generators & Iterators</b> <br>\n",
    " &nbsp;&nbsp;&nbsp;&nbsp; a) Yield Keyword <br>\n",
    " &nbsp;&nbsp;&nbsp;&nbsp; b) Inifinite Generator <br>\n",
    " &nbsp;&nbsp;&nbsp;&nbsp; c) In-Class Exercise #6 <br>\n",
    "7) <b>Exercises</b> <br>\n",
    " &nbsp;&nbsp;&nbsp;&nbsp; a) Exercise #1 - Filtering Empty Strings <br>\n",
    " &nbsp;&nbsp;&nbsp;&nbsp; b) Exercise #2 - Sorting with Last Name <br>\n",
    " &nbsp;&nbsp;&nbsp;&nbsp; c) Exercise #3 - Conversion to Farhenheit <br>\n",
    " &nbsp;&nbsp;&nbsp;&nbsp; d) Exercise #4 - Fibonacci Sequence <br>"
   ]
  },
  {
   "cell_type": "markdown",
   "metadata": {},
   "source": [
    "## Lambda Functions <br>\n",
    "<p>Lambda functions... or \"Anonymous Functions\" are referring to inline functions with no name. The keyword lambda denotes the no name function, and executes within a single line. Without saving it to a variable; however, it is not able to be used, unless passed in either as a paramater or within list comprehension.<br>Written as \"(keyword lambda) (one or more inputs) (colon) (function to be executed)\"</p>"
   ]
  },
  {
   "cell_type": "markdown",
   "metadata": {},
   "source": [
    "#### Syntax"
   ]
  },
  {
   "cell_type": "code",
   "execution_count": 2,
   "metadata": {},
   "outputs": [
    {
     "data": {
      "text/plain": [
       "7"
      ]
     },
     "execution_count": 2,
     "metadata": {},
     "output_type": "execute_result"
    }
   ],
   "source": [
    "# lambda parameter: expression\n",
    "\n",
    "add_two = lambda num: num + 2\n",
    "add_two(5)"
   ]
  },
  {
   "cell_type": "markdown",
   "metadata": {},
   "source": [
    "#### Saving to a Variable"
   ]
  },
  {
   "cell_type": "code",
   "execution_count": null,
   "metadata": {},
   "outputs": [],
   "source": [
    "# see above"
   ]
  },
  {
   "cell_type": "markdown",
   "metadata": {},
   "source": [
    "#### Multiple Parameters\n"
   ]
  },
  {
   "cell_type": "code",
   "execution_count": 3,
   "metadata": {},
   "outputs": [
    {
     "data": {
      "text/plain": [
       "10"
      ]
     },
     "execution_count": 3,
     "metadata": {},
     "output_type": "execute_result"
    }
   ],
   "source": [
    "multiply_nums = lambda num1, num2: num1 * num2\n",
    "multiply_nums(2,5)"
   ]
  },
  {
   "cell_type": "markdown",
   "metadata": {},
   "source": [
    "#### Passing a Lambda into a Function"
   ]
  },
  {
   "cell_type": "code",
   "execution_count": 10,
   "metadata": {},
   "outputs": [
    {
     "name": "stdout",
     "output_type": "stream",
     "text": [
      "8\n",
      "12\n"
     ]
    }
   ],
   "source": [
    "def myfunc(num):\n",
    "    return lambda lamb_num: lamb_num * num\n",
    "\n",
    "double_num = myfunc(2)\n",
    "triple_num = myfunc(3)\n",
    "\n",
    "print(double_num(4))\n",
    "print(triple_num(4))"
   ]
  },
  {
   "attachments": {},
   "cell_type": "markdown",
   "metadata": {},
   "source": [
    "#### If Statements within Lambdas (Ternary Operator)"
   ]
  },
  {
   "cell_type": "code",
   "execution_count": 13,
   "metadata": {},
   "outputs": [
    {
     "data": {
      "text/plain": [
       "True"
      ]
     },
     "execution_count": 13,
     "metadata": {},
     "output_type": "execute_result"
    }
   ],
   "source": [
    "# lambda parameter: True if (condition) else False\n",
    "# Ternary Operator\n",
    "\n",
    "even_nums = lambda num: num % 2 == 0\n",
    "even_nums(10)"
   ]
  },
  {
   "cell_type": "markdown",
   "metadata": {},
   "source": [
    "#### In-Class Exercise #1 <br>\n",
    "<p>Write an anonymous function that cubes the arguments passed in and assign the anonymous function to a variable 'f'.</p>"
   ]
  },
  {
   "cell_type": "code",
   "execution_count": 71,
   "metadata": {},
   "outputs": [
    {
     "name": "stdout",
     "output_type": "stream",
     "text": [
      "27\n"
     ]
    }
   ],
   "source": [
    "f = lambda num: num**3\n",
    "print(f(3))"
   ]
  },
  {
   "cell_type": "markdown",
   "metadata": {},
   "source": [
    "## Map <br>\n",
    "<p>The map function allows you to iterate over an entire list while running a function on each item of the list. This is why the map function works well with lambda's, because it simplifies things and you write less lines of code.<br>The syntax for a map function is \"map(function to be used, list to be used)\"<br>However, you must be careful, as the map function returns a map object, not a list. To turn it into a list we use the list() type conversion.</p>"
   ]
  },
  {
   "cell_type": "markdown",
   "metadata": {},
   "source": [
    "#### Syntax"
   ]
  },
  {
   "cell_type": "code",
   "execution_count": 19,
   "metadata": {},
   "outputs": [
    {
     "name": "stdout",
     "output_type": "stream",
     "text": [
      "[2, 4, 6]\n"
     ]
    },
    {
     "data": {
      "text/plain": [
       "[2, 4, 6]"
      ]
     },
     "execution_count": 19,
     "metadata": {},
     "output_type": "execute_result"
    }
   ],
   "source": [
    "# User defined function\n",
    "def double_num(num_list):\n",
    "    doubled_list = []\n",
    "    for num in num_list:\n",
    "        doubled_list.append(num * 2)\n",
    "    return doubled_list\n",
    "print(double_num([1,2,3]))\n",
    "\n",
    "\n",
    "\n",
    "\n",
    "# map(function, iterable)\n",
    "def map_double_num(num):\n",
    "    return num * 2\n",
    "\n",
    "list(map(map_double_num, [1,2,3]))\n"
   ]
  },
  {
   "cell_type": "markdown",
   "metadata": {},
   "source": [
    "#### Using Lambda's with Map"
   ]
  },
  {
   "cell_type": "code",
   "execution_count": 21,
   "metadata": {},
   "outputs": [
    {
     "data": {
      "text/plain": [
       "[2, 4, 6]"
      ]
     },
     "execution_count": 21,
     "metadata": {},
     "output_type": "execute_result"
    }
   ],
   "source": [
    "list(map(lambda num: num * 2, [1,2,3]))"
   ]
  },
  {
   "cell_type": "markdown",
   "metadata": {},
   "source": [
    "#### In-Class Exercise #2 <br>\n",
    "<p>Use the map function to double each number and minus it by one in the list by using a lambda function</p>"
   ]
  },
  {
   "cell_type": "code",
   "execution_count": 40,
   "metadata": {},
   "outputs": [
    {
     "name": "stdout",
     "output_type": "stream",
     "text": [
      "[3, 11, 197, 3, 89, 111]\n"
     ]
    }
   ],
   "source": [
    "# [2,6,99,2,45,56]\n",
    "print(list(map(lambda x: x*2-1, [2,6,99,2,45,56])))"
   ]
  },
  {
   "cell_type": "markdown",
   "metadata": {},
   "source": [
    "## Filter() <br>\n",
    "<p>Filter's are similar to the map function, where you're able to pass a function argument and a list argument and filter out something from the list based on the conditions passed. Similar to the map function, it returns a filter object, so you need to type convert it to a list()</p>"
   ]
  },
  {
   "cell_type": "markdown",
   "metadata": {},
   "source": [
    "#### Syntax"
   ]
  },
  {
   "cell_type": "code",
   "execution_count": 25,
   "metadata": {},
   "outputs": [
    {
     "name": "stdout",
     "output_type": "stream",
     "text": [
      "[5, 11]\n"
     ]
    },
    {
     "data": {
      "text/plain": [
       "[5, 11]"
      ]
     },
     "execution_count": 25,
     "metadata": {},
     "output_type": "execute_result"
    }
   ],
   "source": [
    "# User defined function\n",
    "def only_odds(num_list):\n",
    "    odd_nums = []\n",
    "    for num in num_list:\n",
    "        if num % 2 != 0:\n",
    "            odd_nums.append(num)\n",
    "    return odd_nums\n",
    "\n",
    "print(only_odds([5,8,10,11]))\n",
    "\n",
    "\n",
    "\n",
    "\n",
    "# filter(function, iterable)\n",
    "def filter_only_odds(num):\n",
    "    return num % 2 != 0\n",
    "\n",
    "list(filter(filter_only_odds, [5,8,10,11]))"
   ]
  },
  {
   "cell_type": "markdown",
   "metadata": {},
   "source": [
    "#### Using Lambda's with Filter()"
   ]
  },
  {
   "cell_type": "code",
   "execution_count": 26,
   "metadata": {},
   "outputs": [
    {
     "data": {
      "text/plain": [
       "[5, 11]"
      ]
     },
     "execution_count": 26,
     "metadata": {},
     "output_type": "execute_result"
    }
   ],
   "source": [
    "list(filter(lambda num: num % 2 != 0, [5,8,10,11]))"
   ]
  },
  {
   "cell_type": "markdown",
   "metadata": {},
   "source": [
    "#### In-Class Exercise #3 <br>\n",
    "<p>Filter out all the numbers that are below the mean of the list.<br><b>Hint: Import the 'statistics' module</b></p>"
   ]
  },
  {
   "cell_type": "code",
   "execution_count": 38,
   "metadata": {},
   "outputs": [
    {
     "name": "stdout",
     "output_type": "stream",
     "text": [
      "[2, 6, 2]\n"
     ]
    }
   ],
   "source": [
    "# [2,6,99,2,45,56]\n",
    "\n",
    "import statistics\n",
    "\n",
    "def less_than_average(a_list):\n",
    "    avg = statistics.mean(a_list)\n",
    "    return (list(filter(lambda x: x < avg, a_list)))\n",
    "\n",
    "print(less_than_average([2,6,99,2,45,56]))"
   ]
  },
  {
   "cell_type": "markdown",
   "metadata": {},
   "source": [
    "### Zip()"
   ]
  },
  {
   "cell_type": "code",
   "execution_count": 33,
   "metadata": {},
   "outputs": [
    {
     "name": "stdout",
     "output_type": "stream",
     "text": [
      "[('Kobe', 'The Mamba', 'Bryant'), ('Michael', 'The GOAT', 'Jordan')]\n"
     ]
    }
   ],
   "source": [
    "# zip(*iterable)\n",
    "\n",
    "first_names = ['Kobe', 'Michael', 'Kevin']\n",
    "nicknames = ['The Mamba', 'The GOAT']\n",
    "last_names = ['Bryant', 'Jordan', 'Durant', 'Booker']\n",
    "\n",
    "print(list(zip(first_names, nicknames, last_names)))"
   ]
  },
  {
   "attachments": {},
   "cell_type": "markdown",
   "metadata": {},
   "source": [
    "## Reduce() <br>\n",
    "<p>Be very careful when using this function, as of Python 3 it's been moved to the 'functools' library and no longer is a built-in function.<br>The creator of Python himself, says to just use a for loop instead, because of the added complexity and inefficiency compared to a basic for loop.</p>"
   ]
  },
  {
   "cell_type": "markdown",
   "metadata": {},
   "source": [
    "#### Syntax"
   ]
  },
  {
   "cell_type": "code",
   "execution_count": 41,
   "metadata": {},
   "outputs": [
    {
     "data": {
      "text/plain": [
       "15"
      ]
     },
     "execution_count": 41,
     "metadata": {},
     "output_type": "execute_result"
    }
   ],
   "source": [
    "from functools import reduce\n",
    "# user-defined function\n",
    "def add_nums(lst):\n",
    "    total = 0\n",
    "    for num in lst:\n",
    "        total += num\n",
    "    return total\n",
    "\n",
    "add_nums([1,2,3,4,5])\n",
    "\n",
    "#reduce(function, iterable)\n",
    "def reduce_add_nums(num1, num2):\n",
    "    return num1 + num2\n",
    "\n",
    "reduce(reduce_add_nums, [1,2,3,4,5])\n"
   ]
  },
  {
   "cell_type": "markdown",
   "metadata": {},
   "source": [
    "#### Using Lambda's with Reduce()"
   ]
  },
  {
   "cell_type": "code",
   "execution_count": 36,
   "metadata": {},
   "outputs": [
    {
     "data": {
      "text/plain": [
       "15"
      ]
     },
     "execution_count": 36,
     "metadata": {},
     "output_type": "execute_result"
    }
   ],
   "source": [
    "reduce(lambda num1, num2: num1 + num2, [1,2,3,4,5])"
   ]
  },
  {
   "cell_type": "markdown",
   "metadata": {},
   "source": [
    "## Recursion <br>\n",
    "<p>Recursion means that a function is calling itself, so it contanstly executes until a base case is reached. It will then push the returning values back up the chain until the function is complete. A prime example of recursion is computing factorials... such that 5! (factorial) is 5*4*3*2*1 which equals 120.</p>"
   ]
  },
  {
   "cell_type": "markdown",
   "metadata": {},
   "source": [
    "#### Implementing a Base Case"
   ]
  },
  {
   "cell_type": "code",
   "execution_count": 41,
   "metadata": {},
   "outputs": [
    {
     "name": "stdout",
     "output_type": "stream",
     "text": [
      "add_nums(5) = 5 + add_nums(4)\n",
      "add_nums(4) = 4 + add_nums(3)\n",
      "add_nums(3) = 3 + add_nums(2)\n",
      "add_nums(2) = 2 + add_nums(1)\n",
      "add_nums(1) = 1\n"
     ]
    },
    {
     "data": {
      "text/plain": [
       "15"
      ]
     },
     "execution_count": 41,
     "metadata": {},
     "output_type": "execute_result"
    }
   ],
   "source": [
    "def add_nums(num):\n",
    "    # 5 + (4 + (3 + (2 + (1))))\n",
    "    # base case\n",
    "    if num <= 1:\n",
    "        print(f'add_nums({num}) = {num}')\n",
    "        return num\n",
    "    else:\n",
    "        # recursive case\n",
    "        print(f'add_nums({num}) = {num} + add_nums({num-1})')\n",
    "        return num + add_nums(num - 1)\n",
    "\n",
    "add_nums(5)"
   ]
  },
  {
   "cell_type": "markdown",
   "metadata": {},
   "source": [
    "#### Writing a Factorial Function"
   ]
  },
  {
   "cell_type": "code",
   "execution_count": 42,
   "metadata": {},
   "outputs": [
    {
     "data": {
      "text/plain": [
       "120"
      ]
     },
     "execution_count": 42,
     "metadata": {},
     "output_type": "execute_result"
    }
   ],
   "source": [
    "def multiple_nums(num):\n",
    "    # base case\n",
    "    if num <= 1:\n",
    "        return num\n",
    "    else:\n",
    "        # recursive case\n",
    "        return num * multiple_nums(num - 1)\n",
    "\n",
    "multiple_nums(5)"
   ]
  },
  {
   "cell_type": "markdown",
   "metadata": {},
   "source": [
    "#### In-Class Exercise #5 <br>\n",
    "<p>Write a recursive function that subtracts all numbers to the argument given.</p>"
   ]
  },
  {
   "cell_type": "code",
   "execution_count": 52,
   "metadata": {},
   "outputs": [
    {
     "name": "stdout",
     "output_type": "stream",
     "text": [
      "3\n"
     ]
    }
   ],
   "source": [
    "def subtracto(num):\n",
    "    if num <= 1:\n",
    "        return num\n",
    "    else:\n",
    "        return num - subtracto(num-1)\n",
    "\n",
    "print(subtracto(5))"
   ]
  },
  {
   "cell_type": "markdown",
   "metadata": {},
   "source": [
    "## Generators <br>\n",
    "<p>Generators are a type of iterable, like lists or tuples. They do not allow indexing, but they can still be iterated through with for loops. They are created using functions and the yield statement.</p>"
   ]
  },
  {
   "cell_type": "markdown",
   "metadata": {},
   "source": [
    "#### Yield Keyword <br>\n",
    "<p>The yield keyword denotes a generator, it doesn't return so it won't leave the function and reset all variables in the function scope, instead it yields the number back to the caller.</p>"
   ]
  },
  {
   "cell_type": "code",
   "execution_count": 37,
   "metadata": {},
   "outputs": [
    {
     "name": "stdout",
     "output_type": "stream",
     "text": [
      "<function my_generator at 0x10a7be940>\n",
      "<generator object my_generator at 0x10a7ca7b0>\n",
      "0\n",
      "1\n",
      "2\n"
     ]
    }
   ],
   "source": [
    "# User defined Generator\n",
    "def my_generator():\n",
    "    num = 0\n",
    "    while True:\n",
    "        yield num\n",
    "        num += 1\n",
    "        \n",
    "print(my_generator)\n",
    "\n",
    "# Saving our generator state to a variable \n",
    "generate = my_generator()\n",
    "print(generate)\n",
    "\n",
    "# next() returns next item in a iterator\n",
    "print(next(generate))\n",
    "print(next(generate))\n",
    "print(next(generate))\n"
   ]
  },
  {
   "cell_type": "markdown",
   "metadata": {},
   "source": [
    "#### In-Class Exercise #6 <br>\n",
    "<p>Create a generator that takes a number argument and yields that number squared, then prints each number squared until zero is reached.</p>"
   ]
  },
  {
   "cell_type": "code",
   "execution_count": 62,
   "metadata": {},
   "outputs": [
    {
     "name": "stdout",
     "output_type": "stream",
     "text": [
      "16\n",
      "9\n",
      "4\n",
      "1\n"
     ]
    }
   ],
   "source": [
    "def sqaure_gene(num):\n",
    "    while num > 0:\n",
    "        yield num ** 2\n",
    "        num -= 1\n",
    "\n",
    "generate = sqaure_gene(4)\n",
    "\n",
    "print(next(generate))\n",
    "print(next(generate))\n",
    "print(next(generate))\n",
    "print(next(generate))"
   ]
  },
  {
   "cell_type": "markdown",
   "metadata": {},
   "source": [
    "# Exercises"
   ]
  },
  {
   "cell_type": "markdown",
   "metadata": {},
   "source": [
    "### Exercise #1 <br>\n",
    "<p>Filter out all of the empty strings from the list below</p>\n",
    "\n",
    "`Output: ['Argentina', 'San Diego', 'Boston', 'New York']`"
   ]
  },
  {
   "cell_type": "code",
   "execution_count": 129,
   "metadata": {},
   "outputs": [
    {
     "name": "stdout",
     "output_type": "stream",
     "text": [
      "['Argentina', 'San Diego', 'Boston', 'New York']\n",
      "['Argentina', 'San Diego', 'Boston', 'New York']\n",
      "['Argentina', 'San Diego', 'Boston', 'New York']\n"
     ]
    }
   ],
   "source": [
    "places = [\" \",\"Argentina\", \" \", \"San Diego\",\"\",\"  \",\"\",\"Boston\",\"New York\"]\n",
    "\n",
    "#first attempt using old knowledge\n",
    "def old_school(places):\n",
    "    return [x for x in places if x !=\" \" and x != \"  \" and x != \"\"]\n",
    "print(old_school(places))\n",
    "\n",
    "#Same logic just with a filter and lambda expression\n",
    "def my_filter(places):\n",
    "    return list(filter(lambda x: x != '' and x != ' ' and x != '  ', places))\n",
    "print(my_filter(places))\n",
    "\n",
    "#trying to account for any legnth of empty string instead of specific ones like above\n",
    "#checks to see if the 0 index of the string is a capital letter\n",
    "#could include lowercase as well if needed, but the example is all title case\n",
    "def my_filter2(places):\n",
    "    #wrote the for loop out before switching to comprehension\n",
    "    # for place in places:\n",
    "    #     if place[0] in 'ABCDEFGHIJKLMNOPQRSTUVWXYZ':\n",
    "    #         return place\n",
    "    return [place for place in places if place[0] in 'ABCDEFGHIJKLMNOPQRSTUVWXYZ']\n",
    "print(list(filter(my_filter2, places)))"
   ]
  },
  {
   "cell_type": "markdown",
   "metadata": {},
   "source": [
    "### Exercise #2 <br>\n",
    "<p>Write an anonymous function that sorts this list by the last name...<br><b>Hint: Use the \".sort()\" method and access the key\"</b></p>\n",
    "\n",
    "`Output: ['Victor aNisimov', 'Gary A.J. Bernstein', 'Joel Carter', 'Andrew P. Garfield', 'David hassELHOFF']`"
   ]
  },
  {
   "cell_type": "code",
   "execution_count": 119,
   "metadata": {},
   "outputs": [
    {
     "name": "stdout",
     "output_type": "stream",
     "text": [
      "['Victor aNisimov', 'Gary A.J. Bernstein', 'Joel Carter', 'Andrew P. Garfield', 'David hassELHOFF']\n",
      "['Victor aNisimov', 'Gary A.J. Bernstein', 'Joel Carter', 'Andrew P. Garfield', 'David hassELHOFF']\n",
      "['Victor aNisimov', 'Gary A.J. Bernstein', 'Joel Carter', 'Andrew P. Garfield', 'David hassELHOFF']\n",
      "['Victor aNisimov', 'Gary A.J. Bernstein', 'Joel Carter', 'Andrew P. Garfield', 'David hassELHOFF']\n"
     ]
    }
   ],
   "source": [
    "author = [\"Joel Carter\", \"Victor aNisimov\", \"Andrew P. Garfield\",\"David hassELHOFF\",\"Gary A.J. Bernstein\"]\n",
    "#First attempt I didn't use .lower() and got the list with capitol last names first, then lowercase all in alphabetical order\n",
    "#Next, I put the .lower() before [-1] and got errors. Thought to try it after the index to specify the string in the list\n",
    "#and not the whole list in a list after reading the error message\n",
    "#The .lower() works becuase sort and sorted give higher priority to capitol letters compared to lowercase when sorting\n",
    "#Guess I probably could have used .upper() or .title() as well to solve the problem\n",
    "def sort_last(author):\n",
    "    author_split = []\n",
    "    for name in author:\n",
    "        author_split.append(name.split())\n",
    "    #split the list into a list in a list for each name\n",
    "    #this allowed me to index to the last name in the list in all cases\n",
    "    #print(author_split) to make sure it was what I wanted\n",
    "    author_split.sort(key=lambda x: x[-1].lower())\n",
    "    #sorted the list by last name\n",
    "    #joined it back together to match the output\n",
    "    final = []\n",
    "    for name in author_split:\n",
    "        final.append(' '.join(name))\n",
    "    return final\n",
    "print(sort_last(author))\n",
    "\n",
    "#used sorted becuase if made more sense to me and shortened the code\n",
    "#same process as before\n",
    "def sorted_last(author):\n",
    "    author_split = []\n",
    "    for name in author:\n",
    "        author_split.append(name.split())\n",
    "    final = []\n",
    "    for name in sorted(author_split, key=lambda x: x[-1].lower()):\n",
    "        final.append(' '.join(name))\n",
    "    return final\n",
    "print(sorted_last(author))\n",
    "\n",
    "#Played around with the idea of condensing everything, one step at a time, so I added the .split()\n",
    "#Expected the output to be the correct order, but not joined\n",
    "#Not sure why I don't have to rejoin the list after I split it. But it worked\n",
    "#Assuming it has something to do with lambda using it like a search function and not actually applying it to the list directly?\n",
    "#Same assumption as to using .lower() and not getting every last name returned in lowercase\n",
    "def sort_list_short(author):\n",
    "    author.sort(key=lambda x: x.split()[-1].lower())\n",
    "    return author\n",
    "print(sort_list_short(author))\n",
    "\n",
    "#Again, sorted just made more sense to me in this case and removed a line of code as well\n",
    "def sorted_list_short(author):\n",
    "    return  sorted(author, key=lambda x: x.split()[-1].lower())\n",
    "print(sorted_list_short(author))"
   ]
  },
  {
   "cell_type": "markdown",
   "metadata": {},
   "source": [
    "### Exercise #3 <br>\n",
    "<p>Convert the list below from Celsius to Farhenheit, using the map function with a lambda...</p>\n",
    "\n",
    "`Output: [('Nashua', 89.6), ('Boston', 53.6), ('Los Angelos', 111.2), ('Miami', 84.2)]\n",
    "`"
   ]
  },
  {
   "cell_type": "code",
   "execution_count": 75,
   "metadata": {},
   "outputs": [
    {
     "name": "stdout",
     "output_type": "stream",
     "text": [
      "[('Nashua', 89.6), ('Boston', 53.6), ('Los Angelos', 111.2), ('Miami', 84.2)]\n",
      "[('Nashua', 89.6), ('Boston', 53.6), ('Los Angelos', 111.2), ('Miami', 84.2)]\n"
     ]
    }
   ],
   "source": [
    "# F = (9/5)*C + 32\n",
    "places = [('Nashua',32),(\"Boston\",12),(\"Los Angelos\",44),(\"Miami\",29)]\n",
    "\n",
    "#first attempt using lambda only and unpacking the tuple\n",
    "def places_f(places):\n",
    "    f = lambda place, x: (place, (9/5)*x+32)\n",
    "    #wrote the loop out before using a comprehension\n",
    "    # fplaces = []\n",
    "    # for group in places:\n",
    "    #     a = group\n",
    "    #     fplaces.append(f(*a))\n",
    "    return [f(*group) for group in places]\n",
    "\n",
    "print(places_f(places))\n",
    "\n",
    "#wanted to get a one liner, but struggled with trying to unpack the tuple inside the expression when using the map function\n",
    "#settled for indexing instead, which I actually didn't think to try until running into the unpacking problem\n",
    "print(list(map(lambda x: (x[0], (9/5)*x[1]+32), places)))"
   ]
  },
  {
   "attachments": {},
   "cell_type": "markdown",
   "metadata": {},
   "source": [
    "### Exercise #4 <br>\n",
    "<p>Write a recursion function to perform the fibonacci sequence up to the number passed in.</p>\n",
    "\n",
    "`Output for fib(5) => \n",
    "Iteration 0: 0\n",
    "Iteration 1: 1\n",
    "Iteration 2: 1\n",
    "Iteration 3: 2\n",
    "Iteration 4: 3\n",
    "Iteration 5: 5"
   ]
  },
  {
   "cell_type": "code",
   "execution_count": 116,
   "metadata": {
    "scrolled": true
   },
   "outputs": [
    {
     "name": "stdout",
     "output_type": "stream",
     "text": [
      "34\n",
      "21\n"
     ]
    }
   ],
   "source": [
    "#Built the basis for my program off the known calculation for the fibonacci sequence of nsub(x)= nsub(x-1) + nsub(x-2)\n",
    "#Would have been easier to use the golden ratio calculation, which wouldn't need any recursion...\n",
    "#Ran it and it was giving me the answer for the next number in the sequence, not the one it was called it on\n",
    "#(i.e if you put in 5, you got the answer for 6)\n",
    "\n",
    "#original attempt\n",
    "#wanted to start with the 3rd fibonacci value because 0-2 are the same output as input\n",
    "def fibi(num):\n",
    "    if num >= 0 and type(num) == int:\n",
    "        #acts as both the base case and a starting point for the program to build off of\n",
    "        if num <= 2:\n",
    "            return num\n",
    "        else:\n",
    "            #tried running fibi(num-2)+fibi(num-3) to adjust, didn't work\n",
    "            return (fibi(num-1)+fibi(num-2))\n",
    "    else:\n",
    "        return 'Input was not a positive whole number'\n",
    "\n",
    "print(fibi(8))\n",
    "\n",
    "#final\n",
    "def fibi1(num):\n",
    "    if num >= 0 and type(num) == int:\n",
    "        #changed from 2 to 1 and it solved my issue\n",
    "        if num <= 1:\n",
    "            return num\n",
    "        else:\n",
    "            return (fibi1(num-1)+fibi1(num-2))\n",
    "    else:\n",
    "        return 'Input was not a positive whole number'\n",
    "\n",
    "print(fibi1(8))"
   ]
  }
 ],
 "metadata": {
  "kernelspec": {
   "display_name": "Python 3",
   "language": "python",
   "name": "python3"
  },
  "language_info": {
   "codemirror_mode": {
    "name": "ipython",
    "version": 3
   },
   "file_extension": ".py",
   "mimetype": "text/x-python",
   "name": "python",
   "nbconvert_exporter": "python",
   "pygments_lexer": "ipython3",
   "version": "3.8.2"
  },
  "vscode": {
   "interpreter": {
    "hash": "31f2aee4e71d21fbe5cf8b01ff0e069b9275f58929596ceb00d14d90e3e16cd6"
   }
  }
 },
 "nbformat": 4,
 "nbformat_minor": 2
}
